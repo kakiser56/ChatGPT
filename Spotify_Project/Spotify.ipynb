{
 "cells": [
  {
   "cell_type": "markdown",
   "metadata": {},
   "source": [
    "Generate Spotify playlists."
   ]
  },
  {
   "cell_type": "code",
   "execution_count": 3,
   "metadata": {},
   "outputs": [],
   "source": [
    "import openai\n",
    "from dotenv import dotenv_values\n",
    "config = dotenv_values('.env')\n",
    "openai.api_key = config[\"OPENAI_API_KEY\"]\n"
   ]
  },
  {
   "cell_type": "code",
   "execution_count": 6,
   "metadata": {},
   "outputs": [
    {
     "name": "stdout",
     "output_type": "stream",
     "text": [
      "[\n",
      "  {\"song\": \"Someone Like You\", \"artist\": \"Adele\"},\n",
      "  {\"song\": \"Hallelujah\", \"artist\": \"Jeff Buckley\"},\n",
      "  {\"song\": \"Creep\", \"artist\": \"Radiohead\"},\n",
      "  {\"song\": \"Mad World\", \"artist\": \"Gary Jules\"},\n",
      "  {\"song\": \"I Will Always Love You\", \"artist\": \"Whitney Houston\"},\n",
      "  {\"song\": \"Let Her Go\", \"artist\": \"Passenger\"},\n",
      "  {\"song\": \"I'm Not The Only One\", \"artist\": \"Sam Smith\"},\n",
      "  {\"song\": \"The A Team\", \"artist\": \"Ed Sheeran\"},\n",
      "  {\"song\": \"Stay With Me\", \"artist\": \"Sam Smith\"},\n",
      "  {\"song\": \"Nothing Compares 2U\", \"artist\": \"Sinéad O'Connor\"},\n",
      "  {\"song\": \"Back to Black\", \"artist\": \"Amy Winehouse\"},\n",
      "  {\"song\": \"Tears In Heaven\", \"artist\": \"Eric Clapton\"},\n",
      "  {\"song\": \"Landslide\", \"artist\": \"Fleetwood Mac\"},\n",
      "  {\"song\": \"Hurt\", \"artist\": \"Johnny Cash\"},\n",
      "  {\"song\": \"I Can't Make You Love Me \", \"artist\": \"Bonnie Raitt\"}\n",
      "]\n"
     ]
    }
   ],
   "source": [
    "example_json = \"\"\"\n",
    "[\n",
    "  {\"song\": \"Someone Like You\", \"artist\": \"Adele\"},\n",
    "  {\"song\": \"Hallelujah\", \"artist\": \"Jeff Buckley\"},\n",
    "  {\"song\": \"Creep\", \"artist\": \"Radiohead\"},\n",
    "  {\"song\": \"Mad World\", \"artist\": \"Gary Jules\"},\n",
    "  {\"song\": \"I Will Always Love You\", \"artist\": \"Whitney Houston\"},\n",
    "  {\"song\": \"Let Her Go\", \"artist\": \"Passenger\"},\n",
    "  {\"song\": \"I'm Not The Only One\", \"artist\": \"Sam Smith\"},\n",
    "  {\"song\": \"The A Team\", \"artist\": \"Ed Sheeran\"},\n",
    "  {\"song\": \"Stay With Me\", \"artist\": \"Sam Smith\"},\n",
    "  {\"song\": \"Nothing Compares 2U\", \"artist\": \"Sinéad O'Connor\"},\n",
    "  {\"song\": \"Back to Black\", \"artist\": \"Amy Winehouse\"},\n",
    "  {\"song\": \"Tears In Heaven\", \"artist\": \"Eric Clapton\"},\n",
    "  {\"song\": \"Landslide\", \"artist\": \"Fleetwood Mac\"},\n",
    "  {\"song\": \"Hurt\", \"artist\": \"Johnny Cash\"},\n",
    "  {\"song\": \"I Can't Make You Love Me \", \"artist\": \"Bonnie Raitt\"}\n",
    "]\n",
    "\"\"\"\n",
    "messages = [\n",
    "    {\"role\" : \"system\", \"content\": \"\"\"You are a helpful playlist generating assistant.\n",
    "     You should generate a list of songs and their artists according to a text prompt\n",
    "     You should return a JSON array where each element follows this format: {\"song\":<song_title>,\"artist\":<artist_name>}\"\"\"\n",
    "     },\n",
    "     {\"role\": \"user\", \"content\": \"Generate a playlist of songs based on this prompt: super super sad songs\"},\n",
    "     {\"role\": \"assistant\", \"content\": example_json}\n",
    "]\n",
    "response = openai.ChatCompletion.create(\n",
    "    messages = messages,\n",
    "    model=\"gpt-4\",\n",
    "    max_tokens = 400\n",
    ")\n",
    "\n",
    "print (response[\"choices\"][0][\"message\"][\"content\"])"
   ]
  },
  {
   "cell_type": "code",
   "execution_count": null,
   "metadata": {},
   "outputs": [],
   "source": []
  }
 ],
 "metadata": {
  "kernelspec": {
   "display_name": "Python 3",
   "language": "python",
   "name": "python3"
  },
  "language_info": {
   "codemirror_mode": {
    "name": "ipython",
    "version": 3
   },
   "file_extension": ".py",
   "mimetype": "text/x-python",
   "name": "python",
   "nbconvert_exporter": "python",
   "pygments_lexer": "ipython3",
   "version": "3.9.7"
  }
 },
 "nbformat": 4,
 "nbformat_minor": 2
}
